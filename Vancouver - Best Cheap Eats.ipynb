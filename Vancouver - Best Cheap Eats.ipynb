{
 "cells": [
  {
   "cell_type": "markdown",
   "metadata": {},
   "source": [
    "#### Best Cheap Eats in Vancouver"
   ]
  },
  {
   "cell_type": "code",
   "execution_count": 1,
   "metadata": {},
   "outputs": [],
   "source": [
    "import pandas as pd\n",
    "import numpy as np\n",
    "pd.set_option('display.max_columns', None)\n",
    "pd.set_option('display.max_rows', None)\n",
    "from geopy.geocoders import Nominatim\n",
    "import matplotlib.cm as cm\n",
    "import matplotlib.colors as colors\n",
    "import folium\n",
    "from sklearn.cluster import KMeans\n",
    "\n",
    "import warnings\n",
    "warnings.filterwarnings(\"ignore\") # action='once'"
   ]
  },
  {
   "cell_type": "markdown",
   "metadata": {},
   "source": [
    "#### Top 15 Cheap Eats - Foursquare"
   ]
  },
  {
   "cell_type": "markdown",
   "metadata": {},
   "source": [
    "- Hawker's Delight - 4127 Main St (E King Edward Ave), Vancouver, BC - Malay Restaurant - Riley Park\n",
    "- Yamato Sushi - 616 Davie St (at Seymour St), Vancouver, BC - Sushi Restaurant - Financial District\n",
    "- The Famous Warehouse - 989 Granville St. (at Nelson St.), Vancouver, BC - Gastropub - Financial District\n",
    "- The Cambie - 300 Cambie St. (at Cordova St.), Vancouver, BC - Pub - Gastown\n",
    "- Viet Sub - 520 Robson St. (Btw Seymour & Richards), Vancouver, BC - Vietnamese Restaurant - Financial District\n",
    "- New Town Bakery & Restaurant - 148 E Pender St (Main St), Vancouver, BC - Chinese Restaurant - Downtown Vancouver \n",
    "- Basil Pasta Bar - 636 Davie St. (at Granville St.), Vancouver, BC - Italian Restaurant - Financial District\n",
    "- Bon's Off Broadway - 2451 Nanaimo Street (at Broadway), Vancouver, BC - Breakfast Spot - Grandview-Woodland\n",
    "- MoMo Sushi - 833 Bidwell St. (at Robson St.), Vancouver, BC - Sushi Restaurant - West End\n",
    "- The Hastings Warehouse - 156 W Hastings St. (at Cambie St.), Vancouver, BC - Restaurant - Gastown\n",
    "- Guu Original - 838 Thurlow St. (btwn Robson & Haro), Vancouver, BC - Japanese Restaurant - West End\n",
    "- Sushi Itoga - 1668 Robson St. (btw Cardero & Bidwell), Vancouver, BC - Sushi Restaurant - West End\n",
    "- Duffin's Donuts - 1391 E 41st Ave. (at Knight St.), Vancouver, BC - Donut Shop - Kensington-Cedar Cottage\n",
    "- Cheesecake, Etc. - 2141 Granville St (at W 6th Ave), Vancouver, BC - Dessert Shop - Fairview\n",
    "- Sal y Limón - 701 Kingsway (at Fraser St), Vancouver, BC - Mexican Restaurant - Mt. Pleasant"
   ]
  },
  {
   "cell_type": "markdown",
   "metadata": {},
   "source": [
    "#### Create dataframe for Vancouver Cheap Eats"
   ]
  },
  {
   "cell_type": "code",
   "execution_count": 2,
   "metadata": {},
   "outputs": [
    {
     "data": {
      "text/html": [
       "<div>\n",
       "<style scoped>\n",
       "    .dataframe tbody tr th:only-of-type {\n",
       "        vertical-align: middle;\n",
       "    }\n",
       "\n",
       "    .dataframe tbody tr th {\n",
       "        vertical-align: top;\n",
       "    }\n",
       "\n",
       "    .dataframe thead th {\n",
       "        text-align: right;\n",
       "    }\n",
       "</style>\n",
       "<table border=\"1\" class=\"dataframe\">\n",
       "  <thead>\n",
       "    <tr style=\"text-align: right;\">\n",
       "      <th></th>\n",
       "      <th>Name</th>\n",
       "      <th>Genre</th>\n",
       "      <th>Neighborhood</th>\n",
       "      <th>Latitude</th>\n",
       "      <th>Longitude</th>\n",
       "      <th>Source</th>\n",
       "    </tr>\n",
       "  </thead>\n",
       "  <tbody>\n",
       "  </tbody>\n",
       "</table>\n",
       "</div>"
      ],
      "text/plain": [
       "Empty DataFrame\n",
       "Columns: [Name, Genre, Neighborhood, Latitude, Longitude, Source]\n",
       "Index: []"
      ]
     },
     "execution_count": 2,
     "metadata": {},
     "output_type": "execute_result"
    }
   ],
   "source": [
    "# define the dataframe columns\n",
    "col_names = [\"Name\",\"Genre\",\"Neighborhood\", \"Latitude\", \"Longitude\",\"Source\"] \n",
    "\n",
    "# instantiate the dataframe\n",
    "VancouverEats = pd.DataFrame(columns=col_names)\n",
    "\n",
    "VancouverEats"
   ]
  },
  {
   "cell_type": "code",
   "execution_count": 3,
   "metadata": {},
   "outputs": [],
   "source": [
    "address = \"4127 Main St, Vancouver, BC\"\n",
    "\n",
    "geolocator = Nominatim()\n",
    "location = geolocator.geocode(address)\n",
    "latitude = location.latitude\n",
    "longitude = location.longitude\n",
    "VancouverEats = VancouverEats.append([{\"Name\": \"Hawker's Delight\", \"Genre\": \"Malay Restaurant\",\"Neighborhood\": \"Riley Park\", \n",
    "                                       \"Latitude\": latitude, \"Longitude\": longitude, \"Source\": \"Foursquare\"}], ignore_index=True)"
   ]
  },
  {
   "cell_type": "code",
   "execution_count": 4,
   "metadata": {},
   "outputs": [],
   "source": [
    "address = \"616 Davie St, Vancouver, BC\"\n",
    "\n",
    "geolocator = Nominatim()\n",
    "location = geolocator.geocode(address)\n",
    "latitude = location.latitude\n",
    "longitude = location.longitude\n",
    "VancouverEats = VancouverEats.append([{\"Name\": \"Yamato Sushi\", \"Genre\": \"Sushi Restaurant\",\"Neighborhood\": \"Downtown Vancouver\", \n",
    "                                       \"Latitude\": latitude, \"Longitude\": longitude, \"Source\": \"Foursquare\"}], ignore_index=True)"
   ]
  },
  {
   "cell_type": "code",
   "execution_count": 5,
   "metadata": {},
   "outputs": [],
   "source": [
    "address = \"989 Granville St., Vancouver, BC\"\n",
    "\n",
    "geolocator = Nominatim()\n",
    "location = geolocator.geocode(address)\n",
    "latitude = location.latitude\n",
    "longitude = location.longitude\n",
    "VancouverEats = VancouverEats.append([{\"Name\": \"The Famous Warehouse\", \"Genre\": \"Gastropub\",\"Neighborhood\": \"Downtown Vancouver\", \n",
    "                                       \"Latitude\": latitude, \"Longitude\": longitude, \"Source\": \"Foursquare\"}], ignore_index=True)"
   ]
  },
  {
   "cell_type": "code",
   "execution_count": 6,
   "metadata": {},
   "outputs": [],
   "source": [
    "address = \"300 Cambie St., Vancouver, BC\"\n",
    "\n",
    "geolocator = Nominatim()\n",
    "location = geolocator.geocode(address)\n",
    "latitude = location.latitude\n",
    "longitude = location.longitude\n",
    "VancouverEats = VancouverEats.append([{\"Name\": \"The Cambie\", \"Genre\": \"Pub\",\"Neighborhood\": \"Gastown\", \n",
    "                                       \"Latitude\": latitude, \"Longitude\": longitude, \"Source\": \"Foursquare\"}], ignore_index=True)"
   ]
  },
  {
   "cell_type": "code",
   "execution_count": 7,
   "metadata": {},
   "outputs": [],
   "source": [
    "address = \"520 Robson St., Vancouver, BC\"\n",
    "\n",
    "geolocator = Nominatim()\n",
    "location = geolocator.geocode(address)\n",
    "latitude = location.latitude\n",
    "longitude = location.longitude\n",
    "VancouverEats = VancouverEats.append([{\"Name\": \"Viet Sub\", \"Genre\": \"Vietnamese Restaurant\",\"Neighborhood\": \"Downtown Vancouver\", \n",
    "                                       \"Latitude\": latitude, \"Longitude\": longitude, \"Source\": \"Foursquare\"}], ignore_index=True)"
   ]
  },
  {
   "cell_type": "code",
   "execution_count": 8,
   "metadata": {},
   "outputs": [],
   "source": [
    "address = \"148 E Pender St, Vancouver, BC\"\n",
    "\n",
    "geolocator = Nominatim()\n",
    "location = geolocator.geocode(address)\n",
    "latitude = location.latitude\n",
    "longitude = location.longitude\n",
    "VancouverEats = VancouverEats.append([{\"Name\": \"New Town Bakery & Restaurant\", \"Genre\": \"Chinese Restaurant\",\"Neighborhood\": \"Downtown Vancouver\", \n",
    "                                       \"Latitude\": latitude, \"Longitude\": longitude, \"Source\": \"Foursquare\"}], ignore_index=True)"
   ]
  },
  {
   "cell_type": "code",
   "execution_count": 9,
   "metadata": {},
   "outputs": [],
   "source": [
    "address = \"636 Davie St., Vancouver, BC\"\n",
    "\n",
    "geolocator = Nominatim()\n",
    "location = geolocator.geocode(address)\n",
    "latitude = location.latitude\n",
    "longitude = location.longitude\n",
    "VancouverEats = VancouverEats.append([{\"Name\": \"Basil Pasta Bar\", \"Genre\": \"Italian Restaurant\",\"Neighborhood\": \"Downtown Vancouver\", \n",
    "                                       \"Latitude\": latitude, \"Longitude\": longitude, \"Source\": \"Foursquare\"}], ignore_index=True)"
   ]
  },
  {
   "cell_type": "code",
   "execution_count": 10,
   "metadata": {},
   "outputs": [],
   "source": [
    "address = \"2451 Nanaimo Street, Vancouver, BC\"\n",
    "\n",
    "geolocator = Nominatim()\n",
    "location = geolocator.geocode(address)\n",
    "latitude = location.latitude\n",
    "longitude = location.longitude\n",
    "VancouverEats = VancouverEats.append([{\"Name\": \"Bon's Off Broadway\", \"Genre\": \"Breakfast Spot\",\"Neighborhood\": \"Grandview-Woodland\", \n",
    "                                       \"Latitude\": latitude, \"Longitude\": longitude, \"Source\": \"Foursquare\"}], ignore_index=True)"
   ]
  },
  {
   "cell_type": "code",
   "execution_count": 11,
   "metadata": {},
   "outputs": [],
   "source": [
    "address = \"833 Bidwell St., Vancouver, BC\"\n",
    "\n",
    "geolocator = Nominatim()\n",
    "location = geolocator.geocode(address)\n",
    "latitude = location.latitude\n",
    "longitude = location.longitude\n",
    "VancouverEats = VancouverEats.append([{\"Name\": \"MoMo Sushi\", \"Genre\": \"Sushi Restaurant\",\"Neighborhood\": \"West End\", \n",
    "                                       \"Latitude\": latitude, \"Longitude\": longitude, \"Source\": \"Foursquare\"}], ignore_index=True) "
   ]
  },
  {
   "cell_type": "code",
   "execution_count": 12,
   "metadata": {},
   "outputs": [],
   "source": [
    "address = \"156 W Hastings St., Vancouver, BC\"\n",
    "\n",
    "geolocator = Nominatim()\n",
    "location = geolocator.geocode(address)\n",
    "latitude = location.latitude\n",
    "longitude = location.longitude\n",
    "VancouverEats = VancouverEats.append([{\"Name\": \"The Hastings Warehouse\", \"Genre\": \"Restaurant\",\"Neighborhood\": \"Gastown\", \n",
    "                                       \"Latitude\": latitude, \"Longitude\": longitude, \"Source\": \"Foursquare\"}], ignore_index=True)"
   ]
  },
  {
   "cell_type": "code",
   "execution_count": 13,
   "metadata": {},
   "outputs": [],
   "source": [
    "address = \"838 Thurlow St., Vancouver, BC\"\n",
    "\n",
    "geolocator = Nominatim()\n",
    "location = geolocator.geocode(address)\n",
    "latitude = location.latitude\n",
    "longitude = location.longitude\n",
    "VancouverEats = VancouverEats.append([{\"Name\": \"Guu Original\", \"Genre\": \"Japanese Restaurant\",\"Neighborhood\": \"West End\", \n",
    "                                       \"Latitude\": latitude, \"Longitude\": longitude, \"Source\": \"Foursquare\"}], ignore_index=True)"
   ]
  },
  {
   "cell_type": "code",
   "execution_count": 14,
   "metadata": {},
   "outputs": [],
   "source": [
    "address = \"1668 Robson St., Vancouver, BC\"\n",
    "\n",
    "geolocator = Nominatim()\n",
    "location = geolocator.geocode(address)\n",
    "latitude = location.latitude\n",
    "longitude = location.longitude\n",
    "VancouverEats = VancouverEats.append([{\"Name\": \"Sushi Itoga\", \"Genre\": \"Sushi Restaurant\",\"Neighborhood\": \"West End\", \n",
    "                                       \"Latitude\": latitude, \"Longitude\": longitude, \"Source\": \"Foursquare\"}], ignore_index=True)"
   ]
  },
  {
   "cell_type": "code",
   "execution_count": 15,
   "metadata": {},
   "outputs": [],
   "source": [
    "address = \"1391 E 41st Ave., Vancouver, BC\"\n",
    "\n",
    "geolocator = Nominatim()\n",
    "location = geolocator.geocode(address)\n",
    "latitude = location.latitude\n",
    "longitude = location.longitude\n",
    "VancouverEats = VancouverEats.append([{\"Name\": \"Duffin's Donuts\", \"Genre\": \"Donut Shop\",\"Neighborhood\": \"Kensington-Cedar Cottage\", \n",
    "                                       \"Latitude\": latitude, \"Longitude\": longitude, \"Source\": \"Foursquare\"}], ignore_index=True)"
   ]
  },
  {
   "cell_type": "code",
   "execution_count": 16,
   "metadata": {},
   "outputs": [],
   "source": [
    "address = \"2141 Granville St, Vancouver, BC\"\n",
    "\n",
    "geolocator = Nominatim()\n",
    "location = geolocator.geocode(address)\n",
    "latitude = location.latitude\n",
    "longitude = location.longitude\n",
    "VancouverEats = VancouverEats.append([{\"Name\": \"Cheesecake, Etc.\", \"Genre\": \"Dessert Shop\",\"Neighborhood\": \"Fairview\", \n",
    "                                       \"Latitude\": latitude, \"Longitude\": longitude, \"Source\": \"Foursquare\"}], ignore_index=True)"
   ]
  },
  {
   "cell_type": "code",
   "execution_count": 17,
   "metadata": {},
   "outputs": [],
   "source": [
    "address = \"701 Kingsway, Vancouver, BC\"\n",
    "\n",
    "geolocator = Nominatim()\n",
    "location = geolocator.geocode(address)\n",
    "latitude = location.latitude\n",
    "longitude = location.longitude\n",
    "VancouverEats = VancouverEats.append([{\"Name\": \"Sal y Limón\", \"Genre\": \"Mexican Restaurant\",\"Neighborhood\": \"Mt. Pleasant \", \n",
    "                                       \"Latitude\": latitude, \"Longitude\": longitude, \"Source\": \"Foursquare\"}], ignore_index=True)"
   ]
  },
  {
   "cell_type": "markdown",
   "metadata": {},
   "source": [
    "#### Top Cheap Eats - Vancouver Sun"
   ]
  },
  {
   "cell_type": "markdown",
   "metadata": {},
   "source": [
    "- Gyoza Bar - 622 West Pender Street, Vancouver, BC - Noodle House, Gastropub, and Japanese Restaurant - Downtown\n",
    "- Haru Korean Kitchen - 324 Cambie Street, Vancouver, BC - Korean Restaurant - Gastown\n",
    "- Harvest Community Foods - 243 Union Street, Vancouver, BC - Gourmet Shop, Café, and Noodle House - Strathcona\n",
    "- Hawker's Delight - 4127 Main St, Vancouver, BC - Malay Restaurant - Riley Park\n",
    "- Hoi An Cafe - 5002 Victoria Drive, Vancouver, BC - Vietnamese Rastaurant - Kensington-Cedar Cottage\n",
    "- Heritage Asian Eatery - 1108 West Pender Street, Vancouver, BC - Chinese Restaurant - Downtown Vancouver\n",
    "- Japadog - 530 Robson Street, Vancouver, BC - Hot Dog Joint and Japanese Restaurant - Downtown Vancouver\n",
    "- Joyeaux Cafe and Restaurant - 551 Howe Street, Vancouver, BC - Vietnamese Restaurant - Downtown Vancouver\n",
    "- Juke - 182 Keefer Street, Vancouver, BC - Fried Chicken Joint - Downtown Vancouver\n",
    "- Laksa King - 2546 East Hastings Street, Vancouver, BC - Malay Restaurant - Hastings-Sunrise\n",
    "- Molli Cafe - 1225 Burrard Street, Vancouver, BC - Mexican Restaurant - West End\n",
    "- Mr. Red Cafe - 2234 East Hastings Street, Vancouver, BC - Vietnamese Restaurant - Hastings-Sunrise\n",
    "- Nook - 781 Denman Street, Vancouver, BC - Italian Restaurant - West End\n",
    "- Peaked Pies - 975 Denman Street, Vancouver, BC - Comfort Food - West End\n",
    "- Phnom Penh - 244 East Georgia Street, Vancouver, BC - Asian Restaurant and Cambodian Restaurant - Downtown Vancouver\n",
    "- Pizzeria Farina - 915 Main Street, Vancouver, BC - Pizza Place - Downtown Vancouver\n",
    "- Ramen Santouka - 1690 Robson Street, Vancouver, BC - Ramen Restaurant and Japanese Restaurant - West End\n",
    "- Sal y Limón - 701 Kingsway, Vancouver, BC - Mexican Restaurant - Mt. Pleasant\n",
    "- Save On Meats - 43 West Hastings Street, Vancouver, BC - Diner, Burger Joint, and Butcher - Gastown\n",
    "- Sen Pad Thai - Granville Island Public Market (1689 Johnston Street), Vancouver, BC - Thai Restaurant - Fairview\n",
    "- Shishinori Japanese Eatery - 2328 Cambie Street, Vancouver, BC - Japanese Restaurant - Mt. Pleasant\n",
    "- Tacofino Commissary - 2327 East Hastings Street, Vancouver, BC - Mexican Restaurant and Taco Place - Hastings-Sunrise"
   ]
  },
  {
   "cell_type": "code",
   "execution_count": 18,
   "metadata": {},
   "outputs": [],
   "source": [
    "address = \"622 West Pender Street, Vancouver, BC\"\n",
    "\n",
    "geolocator = Nominatim()\n",
    "location = geolocator.geocode(address)\n",
    "latitude = location.latitude\n",
    "longitude = location.longitude\n",
    "VancouverEats = VancouverEats.append([{\"Name\": \"Gyoza Bar\", \"Genre\": \"Noodle House, Gastropub, and Japanese Restaurant\",\n",
    "                                       \"Neighborhood\": \"Downtown Vancouver\", \"Latitude\": latitude, \"Longitude\": longitude,\n",
    "                                       \"Source\": \"Vancouver Sun\"}], ignore_index=True)"
   ]
  },
  {
   "cell_type": "code",
   "execution_count": 19,
   "metadata": {},
   "outputs": [],
   "source": [
    "address = \"324 Cambie Street, Vancouver, BC\"\n",
    "\n",
    "geolocator = Nominatim()\n",
    "location = geolocator.geocode(address)\n",
    "latitude = location.latitude\n",
    "longitude = location.longitude\n",
    "VancouverEats = VancouverEats.append([{\"Name\": \"Haru Korean Kitchen\", \"Genre\": \"Korean Restaurant\",\n",
    "                                       \"Neighborhood\": \"Gastown\", \"Latitude\": latitude, \"Longitude\": longitude,\n",
    "                                       \"Source\": \"Vancouver Sun\"}], ignore_index=True)"
   ]
  },
  {
   "cell_type": "code",
   "execution_count": 20,
   "metadata": {},
   "outputs": [],
   "source": [
    "address = \"243 Union Street, Vancouver, BC\"\n",
    "\n",
    "geolocator = Nominatim()\n",
    "location = geolocator.geocode(address)\n",
    "latitude = location.latitude\n",
    "longitude = location.longitude\n",
    "VancouverEats = VancouverEats.append([{\"Name\": \"Harvest Community Foods\", \"Genre\": \"Gourmet Shop, Café, and Noodle House\",\n",
    "                                       \"Neighborhood\": \"Strathcona\", \"Latitude\": latitude, \"Longitude\": longitude,\n",
    "                                       \"Source\": \"Vancouver Sun\"}], ignore_index=True)"
   ]
  },
  {
   "cell_type": "code",
   "execution_count": 21,
   "metadata": {},
   "outputs": [],
   "source": [
    "address = \"4127 Main St, Vancouver, BC\"\n",
    "\n",
    "geolocator = Nominatim()\n",
    "location = geolocator.geocode(address)\n",
    "latitude = location.latitude\n",
    "longitude = location.longitude\n",
    "VancouverEats = VancouverEats.append([{\"Name\": \"Hawker's Delight\", \"Genre\": \"Malay Restaurant\",\n",
    "                                       \"Neighborhood\": \"Riley Park\", \"Latitude\": latitude, \"Longitude\": longitude,\n",
    "                                       \"Source\": \"Vancouver Sun\"}], ignore_index=True)"
   ]
  },
  {
   "cell_type": "code",
   "execution_count": 22,
   "metadata": {},
   "outputs": [],
   "source": [
    "address = \"5002 Victoria Drive, Vancouver, BC\"\n",
    "\n",
    "geolocator = Nominatim()\n",
    "location = geolocator.geocode(address)\n",
    "latitude = location.latitude\n",
    "longitude = location.longitude\n",
    "VancouverEats = VancouverEats.append([{\"Name\": \"Hoi An Cafe\", \"Genre\": \"Vietnamese Rastaurant\",\n",
    "                                       \"Neighborhood\": \"Kensington-Cedar Cottage\", \"Latitude\": latitude, \"Longitude\": longitude,\n",
    "                                       \"Source\": \"Vancouver Sun\"}], ignore_index=True)"
   ]
  },
  {
   "cell_type": "code",
   "execution_count": 23,
   "metadata": {},
   "outputs": [],
   "source": [
    "address = \"1108 West Pender Street, Vancouver, BC\"\n",
    "\n",
    "geolocator = Nominatim()\n",
    "location = geolocator.geocode(address)\n",
    "latitude = location.latitude\n",
    "longitude = location.longitude\n",
    "VancouverEats = VancouverEats.append([{\"Name\": \"Heritage Asian Eatery\", \"Genre\": \"Chinese Restaurant\",\n",
    "                                       \"Neighborhood\": \"Downtown Vancouver\", \"Latitude\": latitude, \"Longitude\": longitude,\n",
    "                                       \"Source\": \"Vancouver Sun\"}], ignore_index=True)"
   ]
  },
  {
   "cell_type": "code",
   "execution_count": 24,
   "metadata": {},
   "outputs": [],
   "source": [
    "address = \"530 Robson Street, Vancouver, BC\"\n",
    "\n",
    "geolocator = Nominatim()\n",
    "location = geolocator.geocode(address)\n",
    "latitude = location.latitude\n",
    "longitude = location.longitude\n",
    "VancouverEats = VancouverEats.append([{\"Name\": \"Japadog\", \"Genre\": \"Hot Dog Joint and Japanese Restaurant\",\n",
    "                                       \"Neighborhood\": \"Downtown Vancouver\", \"Latitude\": latitude, \"Longitude\": longitude,\n",
    "                                       \"Source\": \"Vancouver Sun\"}], ignore_index=True)"
   ]
  },
  {
   "cell_type": "code",
   "execution_count": 25,
   "metadata": {},
   "outputs": [],
   "source": [
    "address = \"551 Howe Street, Vancouver, BC\"\n",
    "\n",
    "geolocator = Nominatim()\n",
    "location = geolocator.geocode(address)\n",
    "latitude = location.latitude\n",
    "longitude = location.longitude\n",
    "VancouverEats = VancouverEats.append([{\"Name\": \"Joyeaux Cafe and Restaurant\", \"Genre\": \"Vietnamese Restaurant\",\n",
    "                                       \"Neighborhood\": \"Downtown Vancouver\", \"Latitude\": latitude, \"Longitude\": longitude,\n",
    "                                       \"Source\": \"Vancouver Sun\"}], ignore_index=True)"
   ]
  },
  {
   "cell_type": "code",
   "execution_count": 26,
   "metadata": {},
   "outputs": [],
   "source": [
    "address = \"182 Keefer Street, Vancouver, BC\"\n",
    "\n",
    "geolocator = Nominatim()\n",
    "location = geolocator.geocode(address)\n",
    "latitude = location.latitude\n",
    "longitude = location.longitude\n",
    "VancouverEats = VancouverEats.append([{\"Name\": \"Juke\", \"Genre\": \"Fried Chicken Joint\",\n",
    "                                       \"Neighborhood\": \"Downtown Vancouver\", \"Latitude\": latitude, \"Longitude\": longitude,\n",
    "                                       \"Source\": \"Vancouver Sun\"}], ignore_index=True)"
   ]
  },
  {
   "cell_type": "code",
   "execution_count": 27,
   "metadata": {},
   "outputs": [],
   "source": [
    "address = \"2546 East Hastings Street, Vancouver, BC\"\n",
    "\n",
    "geolocator = Nominatim()\n",
    "location = geolocator.geocode(address)\n",
    "latitude = location.latitude\n",
    "longitude = location.longitude\n",
    "VancouverEats = VancouverEats.append([{\"Name\": \"Laksa King\", \"Genre\": \"Malay Restaurant\",\n",
    "                                       \"Neighborhood\": \"Hastings-Sunrise\", \"Latitude\": latitude, \"Longitude\": longitude,\n",
    "                                       \"Source\": \"Vancouver Sun\"}], ignore_index=True)"
   ]
  },
  {
   "cell_type": "code",
   "execution_count": 28,
   "metadata": {},
   "outputs": [],
   "source": [
    "address = \"1225 Burrard Street, Vancouver, BC\"\n",
    "\n",
    "geolocator = Nominatim()\n",
    "location = geolocator.geocode(address)\n",
    "latitude = location.latitude\n",
    "longitude = location.longitude\n",
    "VancouverEats = VancouverEats.append([{\"Name\": \"Molli Cafe\", \"Genre\": \"Mexican Restaurant\",\n",
    "                                       \"Neighborhood\": \"West End\", \"Latitude\": latitude, \"Longitude\": longitude,\n",
    "                                       \"Source\": \"Vancouver Sun\"}], ignore_index=True)"
   ]
  },
  {
   "cell_type": "code",
   "execution_count": 29,
   "metadata": {},
   "outputs": [],
   "source": [
    "address = \"2234 East Hastings Street, Vancouver, BC\"\n",
    "\n",
    "geolocator = Nominatim()\n",
    "location = geolocator.geocode(address)\n",
    "latitude = location.latitude\n",
    "longitude = location.longitude\n",
    "VancouverEats = VancouverEats.append([{\"Name\": \"Mr. Red Cafe\", \"Genre\": \"Vietnamese Restaurant\",\n",
    "                                       \"Neighborhood\": \"Hastings-Sunrise\", \"Latitude\": latitude, \"Longitude\": longitude,\n",
    "                                       \"Source\": \"Vancouver Sun\"}], ignore_index=True)"
   ]
  },
  {
   "cell_type": "code",
   "execution_count": 30,
   "metadata": {},
   "outputs": [],
   "source": [
    "address = \"781 Denman Street, Vancouver, BC\"\n",
    "\n",
    "geolocator = Nominatim()\n",
    "location = geolocator.geocode(address)\n",
    "latitude = location.latitude\n",
    "longitude = location.longitude\n",
    "VancouverEats = VancouverEats.append([{\"Name\": \"Nook\", \"Genre\": \"Italian Restaurant\",\n",
    "                                       \"Neighborhood\": \"West End\", \"Latitude\": latitude, \"Longitude\": longitude,\n",
    "                                       \"Source\": \"Vancouver Sun\"}], ignore_index=True)"
   ]
  },
  {
   "cell_type": "code",
   "execution_count": 31,
   "metadata": {},
   "outputs": [],
   "source": [
    "address = \"975 Denman Street, Vancouver, BC\"\n",
    "\n",
    "geolocator = Nominatim()\n",
    "location = geolocator.geocode(address)\n",
    "latitude = location.latitude\n",
    "longitude = location.longitude\n",
    "VancouverEats = VancouverEats.append([{\"Name\": \"Peaked Pies\", \"Genre\": \"Comfort Food\",\n",
    "                                       \"Neighborhood\": \"West End\", \"Latitude\": latitude, \"Longitude\": longitude,\n",
    "                                       \"Source\": \"Vancouver Sun\"}], ignore_index=True)"
   ]
  },
  {
   "cell_type": "code",
   "execution_count": 32,
   "metadata": {},
   "outputs": [],
   "source": [
    "address = \"244 East Georgia Street, Vancouver, BC\"\n",
    "\n",
    "geolocator = Nominatim()\n",
    "location = geolocator.geocode(address)\n",
    "latitude = location.latitude\n",
    "longitude = location.longitude\n",
    "VancouverEats = VancouverEats.append([{\"Name\": \"Phnom Penh\", \"Genre\": \"Asian Restaurant and Cambodian Restaurant\",\n",
    "                                       \"Neighborhood\": \"Downtown Vancouver\", \"Latitude\": latitude, \"Longitude\": longitude,\n",
    "                                       \"Source\": \"Vancouver Sun\"}], ignore_index=True)"
   ]
  },
  {
   "cell_type": "code",
   "execution_count": 33,
   "metadata": {},
   "outputs": [],
   "source": [
    "address = \"915 Main Street, Vancouver, BC\"\n",
    "\n",
    "geolocator = Nominatim()\n",
    "location = geolocator.geocode(address)\n",
    "latitude = location.latitude\n",
    "longitude = location.longitude\n",
    "VancouverEats = VancouverEats.append([{\"Name\": \"Pizzeria Farina\", \"Genre\": \"Pizza Place\",\n",
    "                                       \"Neighborhood\": \"Downtown Vancouver\", \"Latitude\": latitude, \"Longitude\": longitude,\n",
    "                                       \"Source\": \"Vancouver Sun\"}], ignore_index=True)"
   ]
  },
  {
   "cell_type": "code",
   "execution_count": 34,
   "metadata": {},
   "outputs": [],
   "source": [
    "address = \"1690 Robson Street, Vancouver, BC\"\n",
    "\n",
    "geolocator = Nominatim()\n",
    "location = geolocator.geocode(address)\n",
    "latitude = location.latitude\n",
    "longitude = location.longitude\n",
    "VancouverEats = VancouverEats.append([{\"Name\": \"Ramen Santouka\", \"Genre\": \"Ramen Restaurant and Japanese Restaurant\",\n",
    "                                       \"Neighborhood\": \"West End\", \"Latitude\": latitude, \"Longitude\": longitude,\n",
    "                                       \"Source\": \"Vancouver Sun\"}], ignore_index=True)"
   ]
  },
  {
   "cell_type": "code",
   "execution_count": 35,
   "metadata": {},
   "outputs": [],
   "source": [
    "address = \"701 Kingsway, Vancouver, BC\"\n",
    "\n",
    "geolocator = Nominatim()\n",
    "location = geolocator.geocode(address)\n",
    "latitude = location.latitude\n",
    "longitude = location.longitude\n",
    "VancouverEats = VancouverEats.append([{\"Name\": \"Sal y Limón\", \"Genre\": \"Mexican Restaurant\",\n",
    "                                       \"Neighborhood\": \"Mt. Pleasant\", \"Latitude\": latitude, \"Longitude\": longitude,\n",
    "                                       \"Source\": \"Vancouver Sun\"}], ignore_index=True)"
   ]
  },
  {
   "cell_type": "code",
   "execution_count": 36,
   "metadata": {},
   "outputs": [],
   "source": [
    "address = \"43 West Hastings Street, Vancouver, BC\"\n",
    "\n",
    "geolocator = Nominatim()\n",
    "location = geolocator.geocode(address)\n",
    "latitude = location.latitude\n",
    "longitude = location.longitude\n",
    "VancouverEats = VancouverEats.append([{\"Name\": \"Save On Meats\", \"Genre\": \"Diner, Burger Joint, and Butcher\",\n",
    "                                       \"Neighborhood\": \"Gastown\", \"Latitude\": latitude, \"Longitude\": longitude,\n",
    "                                       \"Source\": \"Vancouver Sun\"}], ignore_index=True)"
   ]
  },
  {
   "cell_type": "code",
   "execution_count": 37,
   "metadata": {},
   "outputs": [],
   "source": [
    "address = \"1689 Johnston Street, Vancouver, BC\"\n",
    "\n",
    "geolocator = Nominatim()\n",
    "location = geolocator.geocode(address)\n",
    "latitude = location.latitude\n",
    "longitude = location.longitude\n",
    "VancouverEats = VancouverEats.append([{\"Name\": \"Sen Pad Thai\", \"Genre\": \"Thai Restaurant\",\n",
    "                                       \"Neighborhood\": \"Fairview\", \"Latitude\": latitude, \"Longitude\": longitude,\n",
    "                                       \"Source\": \"Vancouver Sun\"}], ignore_index=True)"
   ]
  },
  {
   "cell_type": "code",
   "execution_count": 38,
   "metadata": {},
   "outputs": [],
   "source": [
    "address = \"2328 Cambie Street, Vancouver, BC\"\n",
    "\n",
    "geolocator = Nominatim()\n",
    "location = geolocator.geocode(address)\n",
    "latitude = location.latitude\n",
    "longitude = location.longitude\n",
    "VancouverEats = VancouverEats.append([{\"Name\": \"Shishinori Japanese Eatery\", \"Genre\": \"Japanese Restaurant\",\n",
    "                                       \"Neighborhood\": \"Mt. Pleasant\", \"Latitude\": latitude, \"Longitude\": longitude,\n",
    "                                       \"Source\": \"Vancouver Sun\"}], ignore_index=True)"
   ]
  },
  {
   "cell_type": "code",
   "execution_count": 39,
   "metadata": {},
   "outputs": [],
   "source": [
    "address = \"2327 East Hastings Street, Vancouver, BC\"\n",
    "\n",
    "geolocator = Nominatim()\n",
    "location = geolocator.geocode(address)\n",
    "latitude = location.latitude\n",
    "longitude = location.longitude\n",
    "VancouverEats = VancouverEats.append([{\"Name\": \"Tacofino Commissary\", \"Genre\": \"Mexican Restaurant and Taco Place\",\n",
    "                                       \"Neighborhood\": \"Hastings-Sunrise\", \"Latitude\": latitude, \"Longitude\": longitude,\n",
    "                                       \"Source\": \"Vancouver Sun\"}], ignore_index=True)"
   ]
  },
  {
   "cell_type": "code",
   "execution_count": 40,
   "metadata": {},
   "outputs": [],
   "source": [
    "#print(VancouverEats)"
   ]
  },
  {
   "cell_type": "code",
   "execution_count": 41,
   "metadata": {},
   "outputs": [],
   "source": [
    "VancouverEats.to_csv(\"VancouverCheapEats.csv\", index = False)"
   ]
  },
  {
   "cell_type": "markdown",
   "metadata": {},
   "source": [
    "#### Map Vancouver's Cheap Eats"
   ]
  },
  {
   "cell_type": "code",
   "execution_count": 42,
   "metadata": {},
   "outputs": [
    {
     "data": {
      "text/html": [
       "<div style=\"width:100%;\"><div style=\"position:relative;width:100%;height:0;padding-bottom:60%;\"><iframe src=\"data:text/html;charset=utf-8;base64,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\" style=\"position:absolute;width:100%;height:100%;left:0;top:0;border:none !important;\" allowfullscreen webkitallowfullscreen mozallowfullscreen></iframe></div></div>"
      ],
      "text/plain": [
       "<folium.folium.Map at 0xb16e53e080>"
      ]
     },
     "execution_count": 42,
     "metadata": {},
     "output_type": "execute_result"
    }
   ],
   "source": [
    "Vancouver_location = [49.2608724, -123.1139529]\n",
    "\n",
    "Vancouver_eats_map = folium.Map(location=Vancouver_location, tiles=\"Stamen Toner\", zoom_start=12)\n",
    "\n",
    "for lat, lng, neighborhood, genre, name, source in zip(VancouverEats[\"Latitude\"], VancouverEats[\"Longitude\"], \n",
    "                                                      VancouverEats[\"Name\"], VancouverEats[\"Neighborhood\"], \n",
    "                                                      VancouverEats[\"Genre\"], VancouverEats[\"Source\"]):\n",
    "    label = '{}, {}, {}'.format(neighborhood, name, genre)\n",
    "    label = folium.Popup(label, parse_html=True)\n",
    "    folium.CircleMarker(\n",
    "        [lat, lng],\n",
    "        radius=5,\n",
    "        popup=label,\n",
    "        color=\"red\",\n",
    "        fill=True,\n",
    "        fill_color=\"#f47d42\",\n",
    "        fill_opacity=0.7,\n",
    "        parse_html=False).add_to(Vancouver_eats_map)\n",
    "\n",
    "Vancouver_eats_map"
   ]
  },
  {
   "cell_type": "code",
   "execution_count": 43,
   "metadata": {},
   "outputs": [],
   "source": [
    "Vancouver_eats_map.save(\"Vancouver_Eats_Map.html\")"
   ]
  }
 ],
 "metadata": {
  "kernelspec": {
   "display_name": "Python 3",
   "language": "python",
   "name": "python3"
  },
  "language_info": {
   "codemirror_mode": {
    "name": "ipython",
    "version": 3
   },
   "file_extension": ".py",
   "mimetype": "text/x-python",
   "name": "python",
   "nbconvert_exporter": "python",
   "pygments_lexer": "ipython3",
   "version": "3.6.5"
  }
 },
 "nbformat": 4,
 "nbformat_minor": 2
}

{
 "cells": [
  {
   "cell_type": "markdown",
   "metadata": {},
   "source": [
    "#### Vancouver Neighborhoods"
   ]
  },
  {
   "cell_type": "code",
   "execution_count": 1,
   "metadata": {},
   "outputs": [],
   "source": [
    "import pandas as pd\n",
    "import numpy as np\n",
    "pd.set_option('display.max_columns', None)\n",
    "pd.set_option('display.max_rows', None)\n",
    "from geopy.geocoders import Nominatim\n",
    "import matplotlib.cm as cm\n",
    "import matplotlib.colors as colors\n",
    "import folium\n",
    "from sklearn.cluster import KMeans\n",
    "\n",
    "import warnings\n",
    "warnings.filterwarnings(\"ignore\") # action='once'"
   ]
  },
  {
   "cell_type": "markdown",
   "metadata": {},
   "source": [
    "#### Get coordinates for the map centroid for Vancouver British Columbia"
   ]
  },
  {
   "cell_type": "code",
   "execution_count": 2,
   "metadata": {},
   "outputs": [
    {
     "name": "stdout",
     "output_type": "stream",
     "text": [
      "The geograpical coordinates of Vancouver BC is 49.2608724, -123.1139529.\n"
     ]
    }
   ],
   "source": [
    "address = \"Vancouver, BC\"\n",
    "\n",
    "geolocator = Nominatim()\n",
    "location = geolocator.geocode(address)\n",
    "latitude = location.latitude\n",
    "longitude = location.longitude\n",
    "print('The geograpical coordinates of Vancouver BC is {}, {}.'.format(latitude, longitude))"
   ]
  },
  {
   "cell_type": "markdown",
   "metadata": {},
   "source": [
    "#### Create dataframe for Vancouver Neighborhoods"
   ]
  },
  {
   "cell_type": "code",
   "execution_count": 3,
   "metadata": {},
   "outputs": [
    {
     "data": {
      "text/html": [
       "<div>\n",
       "<style scoped>\n",
       "    .dataframe tbody tr th:only-of-type {\n",
       "        vertical-align: middle;\n",
       "    }\n",
       "\n",
       "    .dataframe tbody tr th {\n",
       "        vertical-align: top;\n",
       "    }\n",
       "\n",
       "    .dataframe thead th {\n",
       "        text-align: right;\n",
       "    }\n",
       "</style>\n",
       "<table border=\"1\" class=\"dataframe\">\n",
       "  <thead>\n",
       "    <tr style=\"text-align: right;\">\n",
       "      <th></th>\n",
       "      <th>Neighborhood</th>\n",
       "      <th>Latitude</th>\n",
       "      <th>Longitude</th>\n",
       "    </tr>\n",
       "  </thead>\n",
       "  <tbody>\n",
       "  </tbody>\n",
       "</table>\n",
       "</div>"
      ],
      "text/plain": [
       "Empty DataFrame\n",
       "Columns: [Neighborhood, Latitude, Longitude]\n",
       "Index: []"
      ]
     },
     "execution_count": 3,
     "metadata": {},
     "output_type": "execute_result"
    }
   ],
   "source": [
    "# define the dataframe columns\n",
    "col_names = [\"Neighborhood\", \"Latitude\", \"Longitude\"] \n",
    "\n",
    "# instantiate the dataframe\n",
    "Vancouver = pd.DataFrame(columns=col_names)\n",
    "\n",
    "Vancouver"
   ]
  },
  {
   "cell_type": "code",
   "execution_count": null,
   "metadata": {},
   "outputs": [],
   "source": []
  },
  {
   "cell_type": "code",
   "execution_count": 4,
   "metadata": {},
   "outputs": [
    {
     "name": "stdout",
     "output_type": "stream",
     "text": [
      "The geograpical coordinates of Kitsilano, Vancouver BC is 49.2694099, -123.155267.\n",
      "  Neighborhood  Latitude   Longitude\n",
      "0    Kitsilano  49.26941 -123.155267\n"
     ]
    }
   ],
   "source": [
    "address = \"Kitsilano, Vancouver BC\"\n",
    "\n",
    "geolocator = Nominatim()\n",
    "location = geolocator.geocode(address)\n",
    "latitude = location.latitude\n",
    "longitude = location.longitude\n",
    "print('The geograpical coordinates of Kitsilano, Vancouver BC is {}, {}.'.format(latitude, longitude))\n",
    "Vancouver = Vancouver.append([{\"Neighborhood\": \"Kitsilano\",\"Latitude\": latitude, \"Longitude\": longitude}], ignore_index=True)\n",
    "print(Vancouver.head())"
   ]
  },
  {
   "cell_type": "code",
   "execution_count": 5,
   "metadata": {},
   "outputs": [
    {
     "name": "stdout",
     "output_type": "stream",
     "text": [
      "The geograpical coordinates of West End, Vancouver BC is 49.2841308, -123.1317949.\n"
     ]
    }
   ],
   "source": [
    "address = \"West End, Vancouver BC\"\n",
    "\n",
    "geolocator = Nominatim()\n",
    "location = geolocator.geocode(address)\n",
    "latitude = location.latitude\n",
    "longitude = location.longitude\n",
    "print('The geograpical coordinates of West End, Vancouver BC is {}, {}.'.format(latitude, longitude))\n",
    "Vancouver = Vancouver.append([{\"Neighborhood\": \"West End\",\"Latitude\": latitude, \"Longitude\": longitude}], ignore_index=True)"
   ]
  },
  {
   "cell_type": "code",
   "execution_count": 6,
   "metadata": {},
   "outputs": [
    {
     "name": "stdout",
     "output_type": "stream",
     "text": [
      "The geograpical coordinates of Downtown, Vancouver BC is 49.283393, -123.1174563.\n"
     ]
    }
   ],
   "source": [
    "address = \"Downtown, Vancouver BC\"\n",
    "\n",
    "geolocator = Nominatim()\n",
    "location = geolocator.geocode(address)\n",
    "latitude = location.latitude\n",
    "longitude = location.longitude\n",
    "print('The geograpical coordinates of Downtown, Vancouver BC is {}, {}.'.format(latitude, longitude))\n",
    "Vancouver = Vancouver.append([{\"Neighborhood\": \"Downtown\",\"Latitude\": latitude, \"Longitude\": longitude}], ignore_index=True)"
   ]
  },
  {
   "cell_type": "code",
   "execution_count": 7,
   "metadata": {},
   "outputs": [
    {
     "name": "stdout",
     "output_type": "stream",
     "text": [
      "The geograpical coordinates of Downtown Eastside, Vancouver BC is 49.2823992, -123.0994578.\n"
     ]
    }
   ],
   "source": [
    "address = \"Downtown Eastside, Vancouver BC\"\n",
    "\n",
    "geolocator = Nominatim()\n",
    "location = geolocator.geocode(address)\n",
    "latitude = location.latitude\n",
    "longitude = location.longitude\n",
    "print('The geograpical coordinates of Downtown Eastside, Vancouver BC is {}, {}.'.format(latitude, longitude))\n",
    "Vancouver = Vancouver.append([{\"Neighborhood\": \"Downtown Eastside\",\"Latitude\": latitude, \"Longitude\": longitude}], ignore_index=True)"
   ]
  },
  {
   "cell_type": "code",
   "execution_count": 8,
   "metadata": {},
   "outputs": [
    {
     "name": "stdout",
     "output_type": "stream",
     "text": [
      "The geograpical coordinates of Strathcona, Vancouver BC is 49.279554, -123.0899788.\n"
     ]
    }
   ],
   "source": [
    "address = \"Strathcona, Vancouver BC\"\n",
    "\n",
    "geolocator = Nominatim()\n",
    "location = geolocator.geocode(address)\n",
    "latitude = location.latitude\n",
    "longitude = location.longitude\n",
    "print('The geograpical coordinates of Strathcona, Vancouver BC is {}, {}.'.format(latitude, longitude))\n",
    "Vancouver = Vancouver.append([{\"Neighborhood\": \"Strathcona\",\"Latitude\": latitude, \"Longitude\": longitude}], ignore_index=True)"
   ]
  },
  {
   "cell_type": "code",
   "execution_count": 9,
   "metadata": {},
   "outputs": [
    {
     "name": "stdout",
     "output_type": "stream",
     "text": [
      "The geograpical coordinates of West Point Grey, Vancouver BC is 49.2640192, -123.1950217.\n"
     ]
    }
   ],
   "source": [
    "address = \"West Point Grey, Vancouver BC\"\n",
    "\n",
    "geolocator = Nominatim()\n",
    "location = geolocator.geocode(address)\n",
    "latitude = location.latitude\n",
    "longitude = location.longitude\n",
    "print('The geograpical coordinates of West Point Grey, Vancouver BC is {}, {}.'.format(latitude, longitude))\n",
    "Vancouver = Vancouver.append([{\"Neighborhood\": \"West Point Grey\",\"Latitude\": latitude, \"Longitude\": longitude}], ignore_index=True)"
   ]
  },
  {
   "cell_type": "code",
   "execution_count": 10,
   "metadata": {},
   "outputs": [
    {
     "name": "stdout",
     "output_type": "stream",
     "text": [
      "The geograpical coordinates of Fairview, Vancouver BC is 49.2641128, -123.1268352.\n"
     ]
    }
   ],
   "source": [
    "address = \"Fairview, Vancouver BC\"\n",
    "\n",
    "geolocator = Nominatim()\n",
    "location = geolocator.geocode(address)\n",
    "latitude = location.latitude\n",
    "longitude = location.longitude\n",
    "print('The geograpical coordinates of Fairview, Vancouver BC is {}, {}.'.format(latitude, longitude))\n",
    "Vancouver = Vancouver.append([{\"Neighborhood\": \"Fairview\",\"Latitude\": latitude, \"Longitude\": longitude}], ignore_index=True)"
   ]
  },
  {
   "cell_type": "code",
   "execution_count": 11,
   "metadata": {},
   "outputs": [
    {
     "name": "stdout",
     "output_type": "stream",
     "text": [
      "The geograpical coordinates of Mt. Pleasant, Vancouver BC is 49.2633296, -123.0965885.\n"
     ]
    }
   ],
   "source": [
    "address = \"Mt. Pleasant, Vancouver BC\"\n",
    "\n",
    "geolocator = Nominatim()\n",
    "location = geolocator.geocode(address)\n",
    "latitude = location.latitude\n",
    "longitude = location.longitude\n",
    "print('The geograpical coordinates of Mt. Pleasant, Vancouver BC is {}, {}.'.format(latitude, longitude))\n",
    "Vancouver = Vancouver.append([{\"Neighborhood\": \"Mt. Pleasant\",\"Latitude\": latitude, \"Longitude\": longitude}], ignore_index=True)"
   ]
  },
  {
   "cell_type": "code",
   "execution_count": 12,
   "metadata": {},
   "outputs": [
    {
     "name": "stdout",
     "output_type": "stream",
     "text": [
      "The geograpical coordinates of Grandview-Woodland, Vancouver BC is 49.2705588, -123.0679417.\n"
     ]
    }
   ],
   "source": [
    "address = \"Grandview-Woodland, Vancouver BC\"\n",
    "\n",
    "geolocator = Nominatim()\n",
    "location = geolocator.geocode(address)\n",
    "latitude = location.latitude\n",
    "longitude = location.longitude\n",
    "print('The geograpical coordinates of Grandview-Woodland, Vancouver BC is {}, {}.'.format(latitude, longitude))\n",
    "Vancouver = Vancouver.append([{\"Neighborhood\": \"Grandview-Woodland\",\"Latitude\": latitude, \"Longitude\": longitude}], ignore_index=True)"
   ]
  },
  {
   "cell_type": "code",
   "execution_count": 13,
   "metadata": {},
   "outputs": [
    {
     "name": "stdout",
     "output_type": "stream",
     "text": [
      "The geograpical coordinates of Hastings-Sunrise, Vancouver BC is 49.2775935, -123.0439199.\n"
     ]
    }
   ],
   "source": [
    "address = \"Hastings-Sunrise, Vancouver BC\"\n",
    "\n",
    "geolocator = Nominatim()\n",
    "location = geolocator.geocode(address)\n",
    "latitude = location.latitude\n",
    "longitude = location.longitude\n",
    "print('The geograpical coordinates of Hastings-Sunrise, Vancouver BC is {}, {}.'.format(latitude, longitude))\n",
    "Vancouver = Vancouver.append([{\"Neighborhood\": \"Hastings-Sunrise\",\"Latitude\": latitude, \"Longitude\": longitude}], ignore_index=True)"
   ]
  },
  {
   "cell_type": "code",
   "execution_count": 14,
   "metadata": {},
   "outputs": [
    {
     "name": "stdout",
     "output_type": "stream",
     "text": [
      "The geograpical coordinates of Renfrew-Collingwood, Vancouver BC is 49.2420242, -123.0576794.\n"
     ]
    }
   ],
   "source": [
    "address = \"Renfrew-Collingwood, Vancouver BC\"\n",
    "\n",
    "geolocator = Nominatim()\n",
    "location = geolocator.geocode(address)\n",
    "latitude = location.latitude\n",
    "longitude = location.longitude\n",
    "print('The geograpical coordinates of Renfrew-Collingwood, Vancouver BC is {}, {}.'.format(latitude, longitude))\n",
    "Vancouver = Vancouver.append([{\"Neighborhood\": \"Renfrew-Collingwood\",\"Latitude\": latitude, \"Longitude\": longitude}], ignore_index=True)"
   ]
  },
  {
   "cell_type": "code",
   "execution_count": 15,
   "metadata": {},
   "outputs": [
    {
     "name": "stdout",
     "output_type": "stream",
     "text": [
      "The geograpical coordinates of Kensington-Cedar Cottage, Vancouver BC is 49.2476321, -123.0842067.\n"
     ]
    }
   ],
   "source": [
    "address = \"Kensington-Cedar Cottage, Vancouver BC\"\n",
    "\n",
    "geolocator = Nominatim()\n",
    "location = geolocator.geocode(address)\n",
    "latitude = location.latitude\n",
    "longitude = location.longitude\n",
    "print('The geograpical coordinates of Kensington-Cedar Cottage, Vancouver BC is {}, {}.'.format(latitude, longitude))\n",
    "Vancouver = Vancouver.append([{\"Neighborhood\": \"Kensington-Cedar Cottage\",\"Latitude\": latitude, \"Longitude\": longitude}], ignore_index=True)"
   ]
  },
  {
   "cell_type": "code",
   "execution_count": 16,
   "metadata": {},
   "outputs": [
    {
     "name": "stdout",
     "output_type": "stream",
     "text": [
      "The geograpical coordinates of Riley Park, Vancouver BC is 49.2474381, -123.1029664.\n"
     ]
    }
   ],
   "source": [
    "address = \"Riley Park, Vancouver BC\"\n",
    "\n",
    "geolocator = Nominatim()\n",
    "location = geolocator.geocode(address)\n",
    "latitude = location.latitude\n",
    "longitude = location.longitude\n",
    "print('The geograpical coordinates of Riley Park, Vancouver BC is {}, {}.'.format(latitude, longitude))\n",
    "Vancouver = Vancouver.append([{\"Neighborhood\": \"Riley Park\",\"Latitude\": latitude, \"Longitude\": longitude}], ignore_index=True)"
   ]
  },
  {
   "cell_type": "code",
   "execution_count": 17,
   "metadata": {},
   "outputs": [
    {
     "name": "stdout",
     "output_type": "stream",
     "text": [
      "The geograpical coordinates of South Cambie, Vancouver BC is 49.2466847, -123.120915.\n"
     ]
    }
   ],
   "source": [
    "address = \"South Cambie, Vancouver BC\"\n",
    "\n",
    "geolocator = Nominatim()\n",
    "location = geolocator.geocode(address)\n",
    "latitude = location.latitude\n",
    "longitude = location.longitude\n",
    "print('The geograpical coordinates of South Cambie, Vancouver BC is {}, {}.'.format(latitude, longitude))\n",
    "Vancouver = Vancouver.append([{\"Neighborhood\": \"South Cambie\",\"Latitude\": latitude, \"Longitude\": longitude}], ignore_index=True)"
   ]
  },
  {
   "cell_type": "code",
   "execution_count": 18,
   "metadata": {},
   "outputs": [
    {
     "name": "stdout",
     "output_type": "stream",
     "text": [
      "The geograpical coordinates of Shaughnessy, Vancouver BC is 49.2518626, -123.1380226.\n"
     ]
    }
   ],
   "source": [
    "address = \"Shaughnessy, Vancouver BC\"\n",
    "\n",
    "geolocator = Nominatim()\n",
    "location = geolocator.geocode(address)\n",
    "latitude = location.latitude\n",
    "longitude = location.longitude\n",
    "print('The geograpical coordinates of Shaughnessy, Vancouver BC is {}, {}.'.format(latitude, longitude))\n",
    "Vancouver = Vancouver.append([{\"Neighborhood\": \"Shaughnessy\",\"Latitude\": latitude, \"Longitude\": longitude}], ignore_index=True)"
   ]
  },
  {
   "cell_type": "code",
   "execution_count": 18,
   "metadata": {},
   "outputs": [
    {
     "name": "stdout",
     "output_type": "stream",
     "text": [
      "The geograpical coordinates of Arbutus Ridge, Vancouver BC is 49.2409677, -123.1670008.\n"
     ]
    }
   ],
   "source": [
    "address = \"Arbutus Ridge, Vancouver BC\"\n",
    "\n",
    "geolocator = Nominatim()\n",
    "location = geolocator.geocode(address)\n",
    "latitude = location.latitude\n",
    "longitude = location.longitude\n",
    "print('The geograpical coordinates of Arbutus Ridge, Vancouver BC is {}, {}.'.format(latitude, longitude))\n",
    "Vancouver = Vancouver.append([{\"Neighborhood\": \"Arbutus Ridge\",\"Latitude\": latitude, \"Longitude\": longitude}], ignore_index=True)"
   ]
  },
  {
   "cell_type": "code",
   "execution_count": 19,
   "metadata": {},
   "outputs": [
    {
     "name": "stdout",
     "output_type": "stream",
     "text": [
      "The geograpical coordinates of Dunbar-Southlands, Vancouver BC is 49.2534601, -123.1850439.\n"
     ]
    }
   ],
   "source": [
    "address = \"Dunbar-Southlands, Vancouver BC\"\n",
    "\n",
    "geolocator = Nominatim()\n",
    "location = geolocator.geocode(address)\n",
    "latitude = location.latitude\n",
    "longitude = location.longitude\n",
    "print('The geograpical coordinates of Dunbar-Southlands, Vancouver BC is {}, {}.'.format(latitude, longitude))\n",
    "Vancouver = Vancouver.append([{\"Neighborhood\": \"Dunbar-Southlands\",\"Latitude\": latitude, \"Longitude\": longitude}], ignore_index=True)"
   ]
  },
  {
   "cell_type": "code",
   "execution_count": 20,
   "metadata": {},
   "outputs": [
    {
     "name": "stdout",
     "output_type": "stream",
     "text": [
      "The geograpical coordinates of Kerrisdale, Vancouver BC is 49.2346728, -123.1553893.\n"
     ]
    }
   ],
   "source": [
    "address = \"Kerrisdale, Vancouver BC\"\n",
    "\n",
    "geolocator = Nominatim()\n",
    "location = geolocator.geocode(address)\n",
    "latitude = location.latitude\n",
    "longitude = location.longitude\n",
    "print('The geograpical coordinates of Kerrisdale, Vancouver BC is {}, {}.'.format(latitude, longitude))\n",
    "Vancouver = Vancouver.append([{\"Neighborhood\": \"Kerrisdale\",\"Latitude\": latitude, \"Longitude\": longitude}], ignore_index=True)"
   ]
  },
  {
   "cell_type": "code",
   "execution_count": 21,
   "metadata": {},
   "outputs": [
    {
     "name": "stdout",
     "output_type": "stream",
     "text": [
      "The geograpical coordinates of Oakridge, Vancouver BC is 49.2308288, -123.1311342.\n"
     ]
    }
   ],
   "source": [
    "address = \"Oakridge, Vancouver BC\"\n",
    "\n",
    "geolocator = Nominatim()\n",
    "location = geolocator.geocode(address)\n",
    "latitude = location.latitude\n",
    "longitude = location.longitude\n",
    "print('The geograpical coordinates of Oakridge, Vancouver BC is {}, {}.'.format(latitude, longitude))\n",
    "Vancouver = Vancouver.append([{\"Neighborhood\": \"Oakridge\",\"Latitude\": latitude, \"Longitude\": longitude}], ignore_index=True)"
   ]
  },
  {
   "cell_type": "code",
   "execution_count": 22,
   "metadata": {},
   "outputs": [
    {
     "name": "stdout",
     "output_type": "stream",
     "text": [
      "The geograpical coordinates of Marpole, Vancouver BC is 49.2092233, -123.1361495.\n"
     ]
    }
   ],
   "source": [
    "address = \"Marpole, Vancouver BC\"\n",
    "\n",
    "geolocator = Nominatim()\n",
    "location = geolocator.geocode(address)\n",
    "latitude = location.latitude\n",
    "longitude = location.longitude\n",
    "print('The geograpical coordinates of Marpole, Vancouver BC is {}, {}.'.format(latitude, longitude))\n",
    "Vancouver = Vancouver.append([{\"Neighborhood\": \"Marpole\",\"Latitude\": latitude, \"Longitude\": longitude}], ignore_index=True)"
   ]
  },
  {
   "cell_type": "code",
   "execution_count": 23,
   "metadata": {},
   "outputs": [
    {
     "name": "stdout",
     "output_type": "stream",
     "text": [
      "The geograpical coordinates of Sunset, Vancouver BC is 49.2195929, -123.0902386.\n"
     ]
    }
   ],
   "source": [
    "address = \"Sunset, Vancouver BC\"\n",
    "\n",
    "geolocator = Nominatim()\n",
    "location = geolocator.geocode(address)\n",
    "latitude = location.latitude\n",
    "longitude = location.longitude\n",
    "print('The geograpical coordinates of Sunset, Vancouver BC is {}, {}.'.format(latitude, longitude))\n",
    "Vancouver = Vancouver.append([{\"Neighborhood\": \"Sunset\",\"Latitude\": latitude, \"Longitude\": longitude}], ignore_index=True)"
   ]
  },
  {
   "cell_type": "code",
   "execution_count": 24,
   "metadata": {},
   "outputs": [
    {
     "name": "stdout",
     "output_type": "stream",
     "text": [
      "The geograpical coordinates of Victoria-Fraserview, Vancouver BC is 49.2184156, -123.0732871.\n"
     ]
    }
   ],
   "source": [
    "address = \"Victoria-Fraserview, Vancouver BC\"\n",
    "\n",
    "geolocator = Nominatim()\n",
    "location = geolocator.geocode(address)\n",
    "latitude = location.latitude\n",
    "longitude = location.longitude\n",
    "print('The geograpical coordinates of Victoria-Fraserview, Vancouver BC is {}, {}.'.format(latitude, longitude))\n",
    "Vancouver = Vancouver.append([{\"Neighborhood\": \"Victoria-Fraserview\",\"Latitude\": latitude, \"Longitude\": longitude}], ignore_index=True)"
   ]
  },
  {
   "cell_type": "code",
   "execution_count": 25,
   "metadata": {},
   "outputs": [
    {
     "name": "stdout",
     "output_type": "stream",
     "text": [
      "The geograpical coordinates of Killarney, Vancouver BC is 49.2242738, -123.0462504.\n",
      "                Neighborhood   Latitude   Longitude\n",
      "0                  Kitsilano  49.269410 -123.155267\n",
      "1                   West End  49.284131 -123.131795\n",
      "2                   Downtown  49.283393 -123.117456\n",
      "3          Downtown Eastside  49.282399 -123.099458\n",
      "4                 Strathcona  49.279554 -123.089979\n",
      "5            West Point Grey  49.264019 -123.195022\n",
      "6                   Fairview  49.264113 -123.126835\n",
      "7               Mt. Pleasant  49.263330 -123.096588\n",
      "8         Grandview-Woodland  49.270559 -123.067942\n",
      "9           Hastings-Sunrise  49.277594 -123.043920\n",
      "10       Renfrew-Collingwood  49.242024 -123.057679\n",
      "11  Kensington-Cedar Cottage  49.247632 -123.084207\n",
      "12                Riley Park  49.247438 -123.102966\n",
      "13              South Cambie  49.246685 -123.120915\n",
      "14             Arbutus Ridge  49.240968 -123.167001\n",
      "15         Dunbar-Southlands  49.253460 -123.185044\n",
      "16                Kerrisdale  49.234673 -123.155389\n",
      "17                  Oakridge  49.230829 -123.131134\n",
      "18                   Marpole  49.209223 -123.136150\n",
      "19                    Sunset  49.219593 -123.090239\n",
      "20       Victoria-Fraserview  49.218416 -123.073287\n",
      "21                 Killarney  49.224274 -123.046250\n"
     ]
    }
   ],
   "source": [
    "address = \"Killarney, Vancouver BC\"\n",
    "\n",
    "geolocator = Nominatim()\n",
    "location = geolocator.geocode(address)\n",
    "latitude = location.latitude\n",
    "longitude = location.longitude\n",
    "print('The geograpical coordinates of Killarney, Vancouver BC is {}, {}.'.format(latitude, longitude))\n",
    "Vancouver = Vancouver.append([{\"Neighborhood\": \"Killarney\",\"Latitude\": latitude, \"Longitude\": longitude}], ignore_index=True)\n",
    "print(Vancouver.head(23))"
   ]
  },
  {
   "cell_type": "code",
   "execution_count": 26,
   "metadata": {},
   "outputs": [],
   "source": [
    "Vancouver.to_csv(\"VancouverNeighborhoodswCoords.csv\", index = False)"
   ]
  },
  {
   "cell_type": "markdown",
   "metadata": {},
   "source": [
    "#### Map the Neighborhoods"
   ]
  },
  {
   "cell_type": "code",
   "execution_count": 27,
   "metadata": {},
   "outputs": [
    {
     "data": {
      "text/html": [
       "<div style=\"width:100%;\"><div style=\"position:relative;width:100%;height:0;padding-bottom:60%;\"><iframe src=\"data:text/html;charset=utf-8;base64,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\" style=\"position:absolute;width:100%;height:100%;left:0;top:0;border:none !important;\" allowfullscreen webkitallowfullscreen mozallowfullscreen></iframe></div></div>"
      ],
      "text/plain": [
       "<folium.folium.Map at 0xcaddbf4e80>"
      ]
     },
     "execution_count": 27,
     "metadata": {},
     "output_type": "execute_result"
    }
   ],
   "source": [
    "Vancouver_location = [49.2608724, -123.1139529]\n",
    "\n",
    "Vancouver_map = folium.Map(location=Vancouver_location, tiles=\"Stamen Toner\", zoom_start=12)\n",
    "\n",
    "for lat, lng, neighborhood in zip(Vancouver[\"Latitude\"], Vancouver[\"Longitude\"], Vancouver[\"Neighborhood\"]):\n",
    "    label = '{}, {}, {}'.format(neighborhood, lat, lng)\n",
    "    label = folium.Popup(label, parse_html=True)\n",
    "    folium.CircleMarker(\n",
    "        [lat, lng],\n",
    "        radius=5,\n",
    "        popup=label,\n",
    "        color='blue',\n",
    "        fill=True,\n",
    "        fill_color='#3186cc',\n",
    "        fill_opacity=0.7,\n",
    "        parse_html=False).add_to(Vancouver_map)\n",
    "\n",
    "Vancouver_map"
   ]
  },
  {
   "cell_type": "code",
   "execution_count": 29,
   "metadata": {},
   "outputs": [],
   "source": [
    "Vancouver_map.save(\"Vancouver_Map.html\")"
   ]
  }
 ],
 "metadata": {
  "kernelspec": {
   "display_name": "Python 3",
   "language": "python",
   "name": "python3"
  },
  "language_info": {
   "codemirror_mode": {
    "name": "ipython",
    "version": 3
   },
   "file_extension": ".py",
   "mimetype": "text/x-python",
   "name": "python",
   "nbconvert_exporter": "python",
   "pygments_lexer": "ipython3",
   "version": "3.6.5"
  }
 },
 "nbformat": 4,
 "nbformat_minor": 2
}
